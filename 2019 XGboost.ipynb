{
 "cells": [
  {
   "cell_type": "code",
   "execution_count": 1,
   "id": "48816afd",
   "metadata": {
    "scrolled": true
   },
   "outputs": [],
   "source": [
    "import os \n",
    "import csv\n",
    "import pandas as pd \n",
    "import numpy as np\n",
    "from sklearn.model_selection import train_test_split\n",
    "import xgboost as xgb\n",
    "from xgboost import plot_importance\n",
    "from xgboost import XGBClassifier\n",
    "from sklearn.preprocessing import LabelEncoder\n",
    "from sklearn.model_selection import cross_val_score\n",
    "from sklearn.model_selection import KFold, GridSearchCV"
   ]
  },
  {
   "cell_type": "markdown",
   "id": "24351a37",
   "metadata": {},
   "source": [
    "Bert"
   ]
  },
  {
   "cell_type": "code",
   "execution_count": 7,
   "id": "eab162db",
   "metadata": {
    "scrolled": true
   },
   "outputs": [],
   "source": [
    "traindata = pd.read_csv(\"./Downloads/preprocessed/KNOW_2019_train_bert.csv\")\n",
    "testdata = pd.read_csv(\"./Downloads/preprocessed/KNOW_2019_test_bert.csv\")\n",
    "le = LabelEncoder()\n",
    "\n",
    "X_train = traindata.drop(['index','knowcode'], axis=1)\n",
    "y_train = traindata.knowcode\n",
    "X_test = testdata[X_train.columns]\n",
    "\n",
    "y_train = le.fit_transform(y_train)\n"
   ]
  },
  {
   "cell_type": "code",
   "execution_count": 3,
   "id": "d4441c55",
   "metadata": {},
   "outputs": [],
   "source": [
    "model=XGBClassifier(tree_method='gpu_hist')\n",
    "param_grid={\n",
    "                 'max_depth':[4,8],\n",
    "                 'min_child_weight':[1,5],\n",
    "                 'n_estimators':[50,100,500],\n",
    "                 'learning_rate':[0.05,0.1,0.3]}"
   ]
  },
  {
   "cell_type": "code",
   "execution_count": null,
   "id": "e123da67",
   "metadata": {
    "scrolled": true
   },
   "outputs": [],
   "source": [
    "cv=KFold(n_splits=4)\n",
    "\n",
    "# 4번\n",
    "gcv=GridSearchCV(model, param_grid=param_grid, cv=cv, scoring='auc',jobs=4)"
   ]
  },
  {
   "cell_type": "code",
   "execution_count": null,
   "id": "1d74d8c2",
   "metadata": {},
   "outputs": [],
   "source": [
    "gcv.fit(X_train,y_train)\n",
    "print('final params', gcv.best_params_)   # 최적의 파라미터 값 출력\n",
    "print('best score', gcv.best_score_) "
   ]
  },
  {
   "cell_type": "code",
   "execution_count": 8,
   "id": "6a6fdd43",
   "metadata": {},
   "outputs": [],
   "source": [
    "xgb = XGBClassifier(n_estimators=500,tree_method='gpu_hist', gpu_id=0, learning_rate = 0.1, max_depth = 8)\n",
    "xgb.fit(X_train, y_train)\n",
    "xgb_pred = xgb.predict(X_test) #1시 43분"
   ]
  },
  {
   "cell_type": "code",
   "execution_count": null,
   "id": "24618b4d",
   "metadata": {},
   "outputs": [],
   "source": [
    "cv_scores = cross_val_score(XGBClassifier(), X_test, xgb_pred, cv=cv)\n",
    "cv_scores "
   ]
  },
  {
   "cell_type": "code",
   "execution_count": 10,
   "id": "e65dae35",
   "metadata": {
    "scrolled": true
   },
   "outputs": [],
   "source": [
    "y_test= le.inverse_transform(xgb_pred)\n",
    "index = traindata.index\n",
    "result=dict(zip(index,y_test))\n",
    "with open('result_2019_test_bert.csv','w',newline=\"\") as writer_csv:\n",
    "    writer = csv.writer(writer_csv, delimiter=',')\n",
    "    for k, v in result.items():\n",
    "        writer.writerow([k,v])\n",
    "writer_csv.close()"
   ]
  },
  {
   "cell_type": "markdown",
   "id": "c0bce1e7",
   "metadata": {},
   "source": [
    "No-text"
   ]
  },
  {
   "cell_type": "code",
   "execution_count": null,
   "id": "041a07b0",
   "metadata": {
    "scrolled": true
   },
   "outputs": [],
   "source": [
    "traindata = pd.read_csv(\"./Downloads/preprocessed/KNOW_2019_train_no_text.csv\")\n",
    "testdata = pd.read_csv(\"./Downloads/preprocessed/KNOW_2019_test_no_text.csv\")\n",
    "le = LabelEncoder()\n",
    "\n",
    "X_train = traindata.drop(['index','knowcode'], axis=1)\n",
    "y_train = traindata.knowcode\n",
    "X_test = testdata[X_train.columns]\n",
    "\n",
    "y_train = le.fit_transform(y_train)\n"
   ]
  },
  {
   "cell_type": "code",
   "execution_count": null,
   "id": "a9855947",
   "metadata": {},
   "outputs": [],
   "source": [
    "model=XGBClassifier(tree_method='gpu_hist')\n",
    "param_grid={\n",
    "                 'max_depth':[4,8],\n",
    "                 'min_child_weight':[1,5],\n",
    "                 'n_estimators':[50,100,500],\n",
    "                 'learning_rate':[0.05,0.1,0.3]}"
   ]
  },
  {
   "cell_type": "code",
   "execution_count": null,
   "id": "dec13781",
   "metadata": {
    "scrolled": true
   },
   "outputs": [],
   "source": [
    "cv=KFold(n_splits=4)\n",
    "\n",
    "# 4번\n",
    "gcv=GridSearchCV(model, param_grid=param_grid, cv=cv, scoring='auc',jobs=4)"
   ]
  },
  {
   "cell_type": "code",
   "execution_count": null,
   "id": "2b60d731",
   "metadata": {},
   "outputs": [],
   "source": [
    "gcv.fit(X_train,y_train)\n",
    "print('final params', gcv.best_params_)   # 최적의 파라미터 값 출력\n",
    "print('best score', gcv.best_score_) "
   ]
  },
  {
   "cell_type": "code",
   "execution_count": null,
   "id": "597a3abb",
   "metadata": {},
   "outputs": [],
   "source": [
    "xgb = XGBClassifier(n_estimators=500,tree_method='gpu_hist', gpu_id=0, learning_rate = 0.1, max_depth = 8)\n",
    "xgb.fit(X_train, y_train)\n",
    "xgb_pred = xgb.predict(X_test) #1시 43분"
   ]
  },
  {
   "cell_type": "code",
   "execution_count": null,
   "id": "729bf1ca",
   "metadata": {},
   "outputs": [],
   "source": [
    "cv_scores = cross_val_score(XGBClassifier(), X_test, xgb_pred, cv=cv)\n",
    "cv_scores "
   ]
  },
  {
   "cell_type": "code",
   "execution_count": null,
   "id": "7be2019e",
   "metadata": {
    "scrolled": true
   },
   "outputs": [],
   "source": [
    "y_test= le.inverse_transform(xgb_pred)\n",
    "index = traindata.index\n",
    "result=dict(zip(index,y_test))\n",
    "with open('result_2019_test_no_text.csv','w',newline=\"\") as writer_csv:\n",
    "    writer = csv.writer(writer_csv, delimiter=',')\n",
    "    for k, v in result.items():\n",
    "        writer.writerow([k,v])\n",
    "writer_csv.close()"
   ]
  },
  {
   "cell_type": "markdown",
   "id": "49854d4b",
   "metadata": {},
   "source": [
    "Simsce"
   ]
  },
  {
   "cell_type": "code",
   "execution_count": null,
   "id": "8c2916ce",
   "metadata": {
    "scrolled": true
   },
   "outputs": [],
   "source": [
    "traindata = pd.read_csv(\"./Downloads/preprocessed/KNOW_2019_train_simsce.csv\")\n",
    "testdata = pd.read_csv(\"./Downloads/preprocessed/KNOW_2019_test_simsce.csv\")\n",
    "le = LabelEncoder()\n",
    "\n",
    "X_train = traindata.drop(['index','knowcode'], axis=1)\n",
    "y_train = traindata.knowcode\n",
    "X_test = testdata[X_train.columns]\n",
    "\n",
    "y_train = le.fit_transform(y_train)\n"
   ]
  },
  {
   "cell_type": "code",
   "execution_count": null,
   "id": "8e9edd0b",
   "metadata": {},
   "outputs": [],
   "source": [
    "model=XGBClassifier(tree_method='gpu_hist')\n",
    "param_grid={\n",
    "                 'max_depth':[4,8],\n",
    "                 'min_child_weight':[1,5],\n",
    "                 'n_estimators':[50,100,500],\n",
    "                 'learning_rate':[0.05,0.1,0.3]}"
   ]
  },
  {
   "cell_type": "code",
   "execution_count": null,
   "id": "03853acd",
   "metadata": {
    "scrolled": true
   },
   "outputs": [],
   "source": [
    "cv=KFold(n_splits=4)\n",
    "\n",
    "# 4번\n",
    "gcv=GridSearchCV(model, param_grid=param_grid, cv=cv, scoring='auc',jobs=4)"
   ]
  },
  {
   "cell_type": "code",
   "execution_count": null,
   "id": "fa872d3a",
   "metadata": {},
   "outputs": [],
   "source": [
    "gcv.fit(X_train,y_train)\n",
    "print('final params', gcv.best_params_)   # 최적의 파라미터 값 출력\n",
    "print('best score', gcv.best_score_) "
   ]
  },
  {
   "cell_type": "code",
   "execution_count": null,
   "id": "70ec0fe2",
   "metadata": {},
   "outputs": [],
   "source": [
    "xgb = XGBClassifier(n_estimators=500,tree_method='gpu_hist', gpu_id=0, learning_rate = 0.1, max_depth = 8)\n",
    "xgb.fit(X_train, y_train)\n",
    "xgb_pred = xgb.predict(X_test) #1시 43분"
   ]
  },
  {
   "cell_type": "code",
   "execution_count": null,
   "id": "fbb1180a",
   "metadata": {},
   "outputs": [],
   "source": [
    "cv_scores = cross_val_score(XGBClassifier(), X_test, xgb_pred, cv=cv)\n",
    "cv_scores "
   ]
  },
  {
   "cell_type": "code",
   "execution_count": null,
   "id": "7482633b",
   "metadata": {
    "scrolled": true
   },
   "outputs": [],
   "source": [
    "y_test= le.inverse_transform(xgb_pred)\n",
    "index = traindata.index\n",
    "result=dict(zip(index,y_test))\n",
    "with open('result_2019_test_simsce.csv','w',newline=\"\") as writer_csv:\n",
    "    writer = csv.writer(writer_csv, delimiter=',')\n",
    "    for k, v in result.items():\n",
    "        writer.writerow([k,v])\n",
    "writer_csv.close()"
   ]
  },
  {
   "cell_type": "markdown",
   "id": "d5020395",
   "metadata": {},
   "source": [
    "Tf-idf"
   ]
  },
  {
   "cell_type": "code",
   "execution_count": null,
   "id": "9c1d64ff",
   "metadata": {
    "scrolled": true
   },
   "outputs": [],
   "source": [
    "traindata = pd.read_csv(\"./Downloads/preprocessed/KNOW_2019_train_tfidf.csv\")\n",
    "testdata = pd.read_csv(\"./Downloads/preprocessed/KNOW_2019_test_tfidf.csv\")\n",
    "le = LabelEncoder()\n",
    "\n",
    "X_train = traindata.drop(['index','knowcode'], axis=1)\n",
    "y_train = traindata.knowcode\n",
    "X_test = testdata[X_train.columns]\n",
    "\n",
    "y_train = le.fit_transform(y_train)\n"
   ]
  },
  {
   "cell_type": "code",
   "execution_count": null,
   "id": "c643ee92",
   "metadata": {},
   "outputs": [],
   "source": [
    "model=XGBClassifier(tree_method='gpu_hist')\n",
    "param_grid={\n",
    "                 'max_depth':[4,8],\n",
    "                 'min_child_weight':[1,5],\n",
    "                 'n_estimators':[50,100,500],\n",
    "                 'learning_rate':[0.05,0.1,0.3]}"
   ]
  },
  {
   "cell_type": "code",
   "execution_count": null,
   "id": "9350b816",
   "metadata": {
    "scrolled": true
   },
   "outputs": [],
   "source": [
    "cv=KFold(n_splits=4)\n",
    "\n",
    "# 4번\n",
    "gcv=GridSearchCV(model, param_grid=param_grid, cv=cv, scoring='auc',jobs=4)"
   ]
  },
  {
   "cell_type": "code",
   "execution_count": null,
   "id": "a033b4cb",
   "metadata": {},
   "outputs": [],
   "source": [
    "gcv.fit(X_train,y_train)\n",
    "print('final params', gcv.best_params_)   # 최적의 파라미터 값 출력\n",
    "print('best score', gcv.best_score_) "
   ]
  },
  {
   "cell_type": "code",
   "execution_count": null,
   "id": "0d23dab8",
   "metadata": {},
   "outputs": [],
   "source": [
    "xgb = XGBClassifier(n_estimators=500,tree_method='gpu_hist', gpu_id=0, learning_rate = 0.1, max_depth = 8)\n",
    "xgb.fit(X_train, y_train)\n",
    "xgb_pred = xgb.predict(X_test) #1시 43분"
   ]
  },
  {
   "cell_type": "code",
   "execution_count": null,
   "id": "350885cf",
   "metadata": {},
   "outputs": [],
   "source": [
    "cv_scores = cross_val_score(XGBClassifier(), X_test, xgb_pred, cv=cv)\n",
    "cv_scores "
   ]
  },
  {
   "cell_type": "code",
   "execution_count": null,
   "id": "08df3219",
   "metadata": {
    "scrolled": true
   },
   "outputs": [],
   "source": [
    "y_test= le.inverse_transform(xgb_pred)\n",
    "index = traindata.index\n",
    "result=dict(zip(index,y_test))\n",
    "with open('result_2019_test_tfidf.csv','w',newline=\"\") as writer_csv:\n",
    "    writer = csv.writer(writer_csv, delimiter=',')\n",
    "    for k, v in result.items():\n",
    "        writer.writerow([k,v])\n",
    "writer_csv.close()"
   ]
  }
 ],
 "metadata": {
  "kernelspec": {
   "display_name": "Python 3 (ipykernel)",
   "language": "python",
   "name": "python3"
  },
  "language_info": {
   "codemirror_mode": {
    "name": "ipython",
    "version": 3
   },
   "file_extension": ".py",
   "mimetype": "text/x-python",
   "name": "python",
   "nbconvert_exporter": "python",
   "pygments_lexer": "ipython3",
   "version": "3.9.12"
  }
 },
 "nbformat": 4,
 "nbformat_minor": 5
}
